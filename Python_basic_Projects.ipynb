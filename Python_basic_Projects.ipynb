{
  "nbformat": 4,
  "nbformat_minor": 0,
  "metadata": {
    "colab": {
      "name": " Python.basic.Projects",
      "provenance": [],
      "collapsed_sections": [],
      "authorship_tag": "ABX9TyOmaXVF3Bw9x6deng0nwwQF",
      "include_colab_link": true
    },
    "kernelspec": {
      "name": "python3",
      "display_name": "Python 3"
    },
    "language_info": {
      "name": "python"
    }
  },
  "cells": [
    {
      "cell_type": "markdown",
      "metadata": {
        "id": "view-in-github",
        "colab_type": "text"
      },
      "source": [
        "<a href=\"https://colab.research.google.com/github/donzefaceynex/Python.basic.projects/blob/main/Python_basic_Projects.ipynb\" target=\"_parent\"><img src=\"https://colab.research.google.com/assets/colab-badge.svg\" alt=\"Open In Colab\"/></a>"
      ]
    },
    {
      "cell_type": "code",
      "execution_count": null,
      "metadata": {
        "colab": {
          "base_uri": "https://localhost:8080/"
        },
        "id": "i600Pe4pC_PB",
        "outputId": "4da7fec6-ec4c-457d-fa33-45434b5745fb"
      },
      "outputs": [
        {
          "output_type": "stream",
          "name": "stdout",
          "text": [
            "Hello World\n"
          ]
        }
      ],
      "source": [
        "print(\"Hello World\")"
      ]
    },
    {
      "cell_type": "code",
      "source": [
        "# this is a single comment\n",
        "print('this is not a comment')\n",
        "\n",
        "# comments can be added like this as well\n",
        "\"\"\"\n",
        "This is a \n",
        "multi-line comment\n",
        "\"\"\"\n",
        "print(\"this is not a comment either\") "
      ],
      "metadata": {
        "colab": {
          "base_uri": "https://localhost:8080/"
        },
        "id": "l1Ib9PDcQECa",
        "outputId": "d0beefa1-9a09-4bce-9db0-22b1b3a62a14"
      },
      "execution_count": 1,
      "outputs": [
        {
          "output_type": "stream",
          "name": "stdout",
          "text": [
            "this is not a comment\n",
            "this is not a comment either\n"
          ]
        }
      ]
    },
    {
      "cell_type": "code",
      "source": [
        "# bind number 7 to variable 'x'\n",
        "x = 7 # the value of 7 is assigned to x \n",
        "\n",
        "# print value of 'x'\n",
        "print(x)"
      ],
      "metadata": {
        "colab": {
          "base_uri": "https://localhost:8080/"
        },
        "id": "ZMzshzAjRD0n",
        "outputId": "d7d96736-24b1-4474-d74c-d45cd6d19c12"
      },
      "execution_count": 2,
      "outputs": [
        {
          "output_type": "stream",
          "name": "stdout",
          "text": [
            "7\n"
          ]
        }
      ]
    }
  ]
}